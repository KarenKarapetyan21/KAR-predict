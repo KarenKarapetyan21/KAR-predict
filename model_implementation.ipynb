{
 "cells": [
  {
   "cell_type": "markdown",
   "metadata": {},
   "source": [
    "Gradient Boosting Implementation:"
   ]
  },
  {
   "cell_type": "code",
   "execution_count": 35,
   "metadata": {},
   "outputs": [],
   "source": [
    "import pandas as pd\n",
    "import numpy as np\n",
    "import joblib\n",
    "from sklearn.model_selection import train_test_split, cross_val_score\n",
    "from sklearn.metrics import mean_absolute_error, r2_score, mean_squared_error, make_scorer\n",
    "from sklearn.ensemble import GradientBoostingRegressor"
   ]
  },
  {
   "cell_type": "code",
   "execution_count": null,
   "metadata": {},
   "outputs": [
    {
     "ename": "KeyError",
     "evalue": "\"['ԿահույքԳին_մեկ_մետրի_համար'] not in index\"",
     "output_type": "error",
     "traceback": [
      "\u001b[1;31m---------------------------------------------------------------------------\u001b[0m",
      "\u001b[1;31mKeyError\u001b[0m                                  Traceback (most recent call last)",
      "Cell \u001b[1;32mIn[38], line 18\u001b[0m\n\u001b[0;32m     12\u001b[0m \u001b[38;5;66;03m# Հատկանիշների ընտրություն\u001b[39;00m\n\u001b[0;32m     13\u001b[0m selected_features \u001b[38;5;241m=\u001b[39m [\n\u001b[0;32m     14\u001b[0m     \u001b[38;5;124m'\u001b[39m\u001b[38;5;124mԸնդհանուր մակերես\u001b[39m\u001b[38;5;124m'\u001b[39m, \u001b[38;5;124m'\u001b[39m\u001b[38;5;124mՍենյակների քանակ\u001b[39m\u001b[38;5;124m'\u001b[39m, \u001b[38;5;124m'\u001b[39m\u001b[38;5;124mՀարկ\u001b[39m\u001b[38;5;124m'\u001b[39m, \u001b[38;5;124m'\u001b[39m\u001b[38;5;124mՇինության տիպ\u001b[39m\u001b[38;5;124m'\u001b[39m, \u001b[38;5;124m'\u001b[39m\u001b[38;5;124mՎերանորոգում\u001b[39m\u001b[38;5;124m'\u001b[39m, \u001b[38;5;124m'\u001b[39m\u001b[38;5;124mՆորակառույց\u001b[39m\u001b[38;5;124m'\u001b[39m, \u001b[38;5;124m'\u001b[39m\u001b[38;5;124mՀամայնք\u001b[39m\u001b[38;5;124m'\u001b[39m, \u001b[38;5;124m'\u001b[39m\u001b[38;5;124mԿահույք\u001b[39m\u001b[38;5;124m'\u001b[39m\n\u001b[0;32m     15\u001b[0m     \u001b[38;5;124m'\u001b[39m\u001b[38;5;124mԳին_մեկ_մետրի_համար\u001b[39m\u001b[38;5;124m'\u001b[39m, \u001b[38;5;124m'\u001b[39m\u001b[38;5;124mՄակերես_մեկ_սենյակի_համար\u001b[39m\u001b[38;5;124m'\u001b[39m,\u001b[38;5;124m'\u001b[39m\u001b[38;5;124mՀին–Հայտարարություն\u001b[39m\u001b[38;5;124m'\u001b[39m\n\u001b[0;32m     16\u001b[0m ]\n\u001b[1;32m---> 18\u001b[0m X \u001b[38;5;241m=\u001b[39m \u001b[43mdf\u001b[49m\u001b[43m[\u001b[49m\u001b[43mselected_features\u001b[49m\u001b[43m]\u001b[49m\n\u001b[0;32m     19\u001b[0m y \u001b[38;5;241m=\u001b[39m df[\u001b[38;5;124m'\u001b[39m\u001b[38;5;124mԳին\u001b[39m\u001b[38;5;124m'\u001b[39m]\n\u001b[0;32m     21\u001b[0m \u001b[38;5;66;03m# Տվյալների բաժանում\u001b[39;00m\n",
      "File \u001b[1;32mc:\\Users\\Karen\\AppData\\Local\\Programs\\Python\\Python312\\Lib\\site-packages\\pandas\\core\\frame.py:4108\u001b[0m, in \u001b[0;36mDataFrame.__getitem__\u001b[1;34m(self, key)\u001b[0m\n\u001b[0;32m   4106\u001b[0m     \u001b[38;5;28;01mif\u001b[39;00m is_iterator(key):\n\u001b[0;32m   4107\u001b[0m         key \u001b[38;5;241m=\u001b[39m \u001b[38;5;28mlist\u001b[39m(key)\n\u001b[1;32m-> 4108\u001b[0m     indexer \u001b[38;5;241m=\u001b[39m \u001b[38;5;28;43mself\u001b[39;49m\u001b[38;5;241;43m.\u001b[39;49m\u001b[43mcolumns\u001b[49m\u001b[38;5;241;43m.\u001b[39;49m\u001b[43m_get_indexer_strict\u001b[49m\u001b[43m(\u001b[49m\u001b[43mkey\u001b[49m\u001b[43m,\u001b[49m\u001b[43m \u001b[49m\u001b[38;5;124;43m\"\u001b[39;49m\u001b[38;5;124;43mcolumns\u001b[39;49m\u001b[38;5;124;43m\"\u001b[39;49m\u001b[43m)\u001b[49m[\u001b[38;5;241m1\u001b[39m]\n\u001b[0;32m   4110\u001b[0m \u001b[38;5;66;03m# take() does not accept boolean indexers\u001b[39;00m\n\u001b[0;32m   4111\u001b[0m \u001b[38;5;28;01mif\u001b[39;00m \u001b[38;5;28mgetattr\u001b[39m(indexer, \u001b[38;5;124m\"\u001b[39m\u001b[38;5;124mdtype\u001b[39m\u001b[38;5;124m\"\u001b[39m, \u001b[38;5;28;01mNone\u001b[39;00m) \u001b[38;5;241m==\u001b[39m \u001b[38;5;28mbool\u001b[39m:\n",
      "File \u001b[1;32mc:\\Users\\Karen\\AppData\\Local\\Programs\\Python\\Python312\\Lib\\site-packages\\pandas\\core\\indexes\\base.py:6200\u001b[0m, in \u001b[0;36mIndex._get_indexer_strict\u001b[1;34m(self, key, axis_name)\u001b[0m\n\u001b[0;32m   6197\u001b[0m \u001b[38;5;28;01melse\u001b[39;00m:\n\u001b[0;32m   6198\u001b[0m     keyarr, indexer, new_indexer \u001b[38;5;241m=\u001b[39m \u001b[38;5;28mself\u001b[39m\u001b[38;5;241m.\u001b[39m_reindex_non_unique(keyarr)\n\u001b[1;32m-> 6200\u001b[0m \u001b[38;5;28;43mself\u001b[39;49m\u001b[38;5;241;43m.\u001b[39;49m\u001b[43m_raise_if_missing\u001b[49m\u001b[43m(\u001b[49m\u001b[43mkeyarr\u001b[49m\u001b[43m,\u001b[49m\u001b[43m \u001b[49m\u001b[43mindexer\u001b[49m\u001b[43m,\u001b[49m\u001b[43m \u001b[49m\u001b[43maxis_name\u001b[49m\u001b[43m)\u001b[49m\n\u001b[0;32m   6202\u001b[0m keyarr \u001b[38;5;241m=\u001b[39m \u001b[38;5;28mself\u001b[39m\u001b[38;5;241m.\u001b[39mtake(indexer)\n\u001b[0;32m   6203\u001b[0m \u001b[38;5;28;01mif\u001b[39;00m \u001b[38;5;28misinstance\u001b[39m(key, Index):\n\u001b[0;32m   6204\u001b[0m     \u001b[38;5;66;03m# GH 42790 - Preserve name from an Index\u001b[39;00m\n",
      "File \u001b[1;32mc:\\Users\\Karen\\AppData\\Local\\Programs\\Python\\Python312\\Lib\\site-packages\\pandas\\core\\indexes\\base.py:6252\u001b[0m, in \u001b[0;36mIndex._raise_if_missing\u001b[1;34m(self, key, indexer, axis_name)\u001b[0m\n\u001b[0;32m   6249\u001b[0m     \u001b[38;5;28;01mraise\u001b[39;00m \u001b[38;5;167;01mKeyError\u001b[39;00m(\u001b[38;5;124mf\u001b[39m\u001b[38;5;124m\"\u001b[39m\u001b[38;5;124mNone of [\u001b[39m\u001b[38;5;132;01m{\u001b[39;00mkey\u001b[38;5;132;01m}\u001b[39;00m\u001b[38;5;124m] are in the [\u001b[39m\u001b[38;5;132;01m{\u001b[39;00maxis_name\u001b[38;5;132;01m}\u001b[39;00m\u001b[38;5;124m]\u001b[39m\u001b[38;5;124m\"\u001b[39m)\n\u001b[0;32m   6251\u001b[0m not_found \u001b[38;5;241m=\u001b[39m \u001b[38;5;28mlist\u001b[39m(ensure_index(key)[missing_mask\u001b[38;5;241m.\u001b[39mnonzero()[\u001b[38;5;241m0\u001b[39m]]\u001b[38;5;241m.\u001b[39munique())\n\u001b[1;32m-> 6252\u001b[0m \u001b[38;5;28;01mraise\u001b[39;00m \u001b[38;5;167;01mKeyError\u001b[39;00m(\u001b[38;5;124mf\u001b[39m\u001b[38;5;124m\"\u001b[39m\u001b[38;5;132;01m{\u001b[39;00mnot_found\u001b[38;5;132;01m}\u001b[39;00m\u001b[38;5;124m not in index\u001b[39m\u001b[38;5;124m\"\u001b[39m)\n",
      "\u001b[1;31mKeyError\u001b[0m: \"['ԿահույքԳին_մեկ_մետրի_համար'] not in index\""
     ]
    }
   ],
   "source": [
    "# Տվյալների ներբեռնում\n",
    "df = pd.read_csv('NEW_DIGITAL_data.csv')\n",
    "\n",
    "# Գնի քվարտիլների հաշվարկ և աուտլայերների հեռացում\n",
    "Q1 = df['Գին'].quantile(0.25)\n",
    "Q3 = df['Գին'].quantile(0.75)\n",
    "IQR = Q3 - Q1\n",
    "lower_bound = Q1 - 1.5 * IQR\n",
    "upper_bound = Q3 + 1.5 * IQR\n",
    "df = df[(df['Գին'] >= lower_bound) & (df['Գին'] <= upper_bound)]\n",
    "\n",
    "# Հատկանիշների ընտրություն\n",
    "selected_features = [\n",
    "    'Ընդհանուր մակերես', 'Սենյակների քանակ', 'Հարկ', 'Շինության տիպ', 'Վերանորոգում', 'Նորակառույց', 'Համայնք', 'Կահույք',\n",
    "    'Գին_մեկ_մետրի_համար', 'Մակերես_մեկ_սենյակի_համար','Հին–Հայտարարություն'\n",
    "]\n",
    "\n",
    "X = df[selected_features]\n",
    "y = df['Գին']\n",
    "\n",
    "# Տվյալների բաժանում\n",
    "X_train_full, X_test, y_train_full, y_test = train_test_split(\n",
    "    X, y, test_size=0.2, random_state=42\n",
    ")\n",
    "\n",
    "# Ստեղծում ենք Gradient Boosting մոդելը\n",
    "gb_model = GradientBoostingRegressor(\n",
    "    n_estimators=1000,\n",
    "    learning_rate=0.05,\n",
    "    max_depth=6,\n",
    "    random_state=42\n",
    ")\n",
    "\n",
    "# Ուսուցանում ենք մոդելը\n",
    "gb_model.fit(X_train_full, y_train_full)\n",
    "\n",
    "# Գնի կանխատեսում Gradient Boosting մոդելի միջոցով\n",
    "y_pred_gb = gb_model.predict(X_test)\n",
    "\n",
    "# Պահպանում ենք մոդելը\n",
    "joblib.dump(gb_model, 'gradient_boosting_model.pkl')\n"
   ]
  },
  {
   "cell_type": "code",
   "execution_count": 37,
   "metadata": {},
   "outputs": [
    {
     "name": "stdout",
     "output_type": "stream",
     "text": [
      "Gradient Boosting-ի Mean Absolute Error (MAE): 5116.864137023439\n",
      "Gradient Boosting-ի R²: 0.9947797863848176\n",
      "Gradient Boosting-ի Mean Squared Error (MSE): 70714986.5570256\n",
      "Gradient Boosting-ի Root Mean Squared Error (RMSE): 8409.220329913207\n",
      "Cross-Validation Results:\n",
      "MAE: 5702.779421579517\n",
      "MSE: 124509020.2792087\n",
      "R2: 0.9906019802769057\n",
      "RMSE: 11076.056008590649\n",
      "                     Feature  Importance\n",
      "7        Գին_մեկ_մետրի_համար    0.429159\n",
      "0          Ընդհանուր մակերես    0.365629\n",
      "6                    Համայնք    0.168731\n",
      "3              Շինության տիպ    0.017071\n",
      "5                Նորակառույց    0.013032\n",
      "1           Սենյակների քանակ    0.002560\n",
      "4               Վերանորոգում    0.002152\n",
      "8  Մակերես_մեկ_սենյակի_համար    0.000785\n",
      "9        Հին–Հայտարարություն    0.000593\n",
      "2                       Հարկ    0.000289\n"
     ]
    }
   ],
   "source": [
    "# Մոդելի բեռնում\n",
    "loaded_model = joblib.load('gradient_boosting_model.pkl')\n",
    "\n",
    "# Կատարողականության գնահատում\n",
    "mae_gb = mean_absolute_error(y_test, y_pred_gb)\n",
    "print(f\"Gradient Boosting-ի Mean Absolute Error (MAE): {mae_gb}\")\n",
    "\n",
    "r2_gb = r2_score(y_test, y_pred_gb)\n",
    "print(f\"Gradient Boosting-ի R²: {r2_gb}\")\n",
    "\n",
    "# Հաշվում ենք Mean Squared Error (MSE) և Root Mean Squared Error (RMSE)\n",
    "mse_gb = mean_squared_error(y_test, y_pred_gb)\n",
    "rmse_gb = np.sqrt(mse_gb)\n",
    "\n",
    "print(f\"Gradient Boosting-ի Mean Squared Error (MSE): {mse_gb}\")\n",
    "print(f\"Gradient Boosting-ի Root Mean Squared Error (RMSE): {rmse_gb}\")\n",
    "\n",
    "# Cross-validation գնահատում\n",
    "def cross_val_metrics(model, X, y, cv):\n",
    "    scorers = {\n",
    "        'MAE': make_scorer(mean_absolute_error, greater_is_better=False),\n",
    "        'MSE': make_scorer(mean_squared_error, greater_is_better=False),\n",
    "        'R2': make_scorer(r2_score),\n",
    "        'RMSE': make_scorer(lambda y_true, y_pred: np.sqrt(mean_squared_error(y_true, y_pred)), greater_is_better=False)\n",
    "    }\n",
    "\n",
    "    results = {}\n",
    "    for metric, scorer in scorers.items():\n",
    "        scores = cross_val_score(model, X, y, cv=cv, scoring=scorer)\n",
    "        results[metric] = -np.mean(scores) if metric in ['MAE', 'MSE', 'RMSE'] else np.mean(scores)\n",
    "    return results\n",
    "\n",
    "cv_results = cross_val_metrics(gb_model, X_train_full, y_train_full, cv=5)\n",
    "\n",
    "print(\"Cross-Validation Results:\")\n",
    "for metric, score in cv_results.items():\n",
    "    print(f\"{metric}: {score}\")\n",
    "\n",
    "# Հատկանիշների կարևորությունների ստացում\n",
    "feature_importances_gb = gb_model.feature_importances_\n",
    "importance_df_gb = pd.DataFrame({\n",
    "    'Feature': X.columns,\n",
    "    'Importance': feature_importances_gb\n",
    "}).sort_values(by='Importance', ascending=False)\n",
    "\n",
    "print(importance_df_gb)"
   ]
  }
 ],
 "metadata": {
  "kernelspec": {
   "display_name": "Python 3",
   "language": "python",
   "name": "python3"
  },
  "language_info": {
   "codemirror_mode": {
    "name": "ipython",
    "version": 3
   },
   "file_extension": ".py",
   "mimetype": "text/x-python",
   "name": "python",
   "nbconvert_exporter": "python",
   "pygments_lexer": "ipython3",
   "version": "3.12.3"
  }
 },
 "nbformat": 4,
 "nbformat_minor": 2
}
